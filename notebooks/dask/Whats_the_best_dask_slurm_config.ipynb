{
 "cells": [
  {
   "cell_type": "markdown",
   "metadata": {},
   "source": [
    "# Dask at mistral\n",
    "## login\n",
    "Aaron: Direct Jupyter Script from https://www.dkrz.de/up/systems/mistral/programming/jupyter-notebook; loads anaconda3 with my_jupyter environment"
   ]
  },
  {
   "cell_type": "markdown",
   "metadata": {},
   "source": [
    "# Whats there"
   ]
  },
  {
   "cell_type": "code",
   "execution_count": 3,
   "metadata": {},
   "outputs": [
    {
     "data": {
      "text/plain": [
       "48"
      ]
     },
     "execution_count": 3,
     "metadata": {},
     "output_type": "execute_result"
    }
   ],
   "source": [
    "import multiprocessing\n",
    "multiprocessing.cpu_count()"
   ]
  },
  {
   "cell_type": "code",
   "execution_count": 4,
   "metadata": {},
   "outputs": [
    {
     "data": {
      "text/plain": [
       "svmem(total=67309031424, available=62845401088, percent=6.6, used=4359716864, free=62524395520, active=334802944, inactive=341700608, buffers=8638464, cached=416280576, shared=1871872, slab=2817179648)"
      ]
     },
     "execution_count": 4,
     "metadata": {},
     "output_type": "execute_result"
    }
   ],
   "source": [
    "import psutil\n",
    "psutil.virtual_memory()"
   ]
  },
  {
   "cell_type": "code",
   "execution_count": 5,
   "metadata": {},
   "outputs": [
    {
     "name": "stdout",
     "output_type": "stream",
     "text": [
      "/work/mh0727/m300524/anaconda3/condabin/conda\n",
      "conda 4.6.2\n"
     ]
    }
   ],
   "source": [
    "!which conda\n",
    "!conda --version"
   ]
  },
  {
   "cell_type": "code",
   "execution_count": 6,
   "metadata": {},
   "outputs": [
    {
     "name": "stdout",
     "output_type": "stream",
     "text": [
      "/work/mh0727/m300524/anaconda3/envs/my_jupyter/bin/python\n",
      "Python 3.6.7 :: Anaconda, Inc.\n"
     ]
    }
   ],
   "source": [
    "!which python\n",
    "!python --version"
   ]
  },
  {
   "cell_type": "code",
   "execution_count": 7,
   "metadata": {},
   "outputs": [
    {
     "name": "stdout",
     "output_type": "stream",
     "text": [
      "/work/mh0727/m300524/anaconda3/envs/my_jupyter/bin/bokeh\n",
      "0.13.0\n"
     ]
    }
   ],
   "source": [
    "!which bokeh\n",
    "!bokeh --version"
   ]
  },
  {
   "cell_type": "code",
   "execution_count": 8,
   "metadata": {},
   "outputs": [
    {
     "name": "stdout",
     "output_type": "stream",
     "text": [
      "dask                      1.0.0                      py_0    conda-forge\n",
      "dask-core                 1.0.0                      py_0    conda-forge\n",
      "dask-jobqueue             0.4.1                      py_0    conda-forge\n",
      "dask-labextension         0.3.1                    pypi_0    pypi\n"
     ]
    }
   ],
   "source": [
    "!conda list | grep -i dask"
   ]
  },
  {
   "cell_type": "markdown",
   "metadata": {},
   "source": [
    "## Goals\n",
    "- use of diagnostics (https://distributed.readthedocs.io/en/latest/web.html) to identify bottlenecks\n",
    "- use of parallel computing\n",
    "- use of lazy data ()\n",
    "- use of SLURM"
   ]
  },
  {
   "cell_type": "markdown",
   "metadata": {},
   "source": [
    "# Setup "
   ]
  },
  {
   "cell_type": "code",
   "execution_count": 9,
   "metadata": {},
   "outputs": [],
   "source": [
    "# Starting the Dask Client is optional. It will provide a dashboard which is useful to gain insight on the computation.\n",
    "from dask.distributed import Client, progress, LocalCluster\n",
    "client = Client(n_workers=4, threads_per_worker=5, memory_limit='2GB')\n",
    "#cluster=LocalCluster()\n",
    "#cluster.scale(8)\n",
    "#client = Client(cluster)"
   ]
  },
  {
   "cell_type": "code",
   "execution_count": 11,
   "metadata": {},
   "outputs": [
    {
     "data": {
      "text/plain": [
       "{'tcp://127.0.0.1:35978': (),\n",
       " 'tcp://127.0.0.1:36094': (),\n",
       " 'tcp://127.0.0.1:39115': (),\n",
       " 'tcp://127.0.0.1:46052': ()}"
      ]
     },
     "execution_count": 11,
     "metadata": {},
     "output_type": "execute_result"
    }
   ],
   "source": [
    "client.has_what()"
   ]
  },
  {
   "cell_type": "markdown",
   "metadata": {},
   "source": [
    "# dask interface diagnostics"
   ]
  },
  {
   "cell_type": "markdown",
   "metadata": {},
   "source": [
    "access from jupyter: you might need to change 8888 to your port\n",
    "- http://localhost:8888/proxy/8787/status\n"
   ]
  },
  {
   "cell_type": "markdown",
   "metadata": {},
   "source": [
    "- install dask labextension\n",
    "- open: \n",
    "    - task stream\n",
    "    - dask graph\n",
    "    - dask progress\n",
    "    - dask workers"
   ]
  },
  {
   "cell_type": "markdown",
   "metadata": {},
   "source": [
    "# xarray example\n",
    "Grabbing data from the Large Ensemble"
   ]
  },
  {
   "cell_type": "code",
   "execution_count": 30,
   "metadata": {},
   "outputs": [],
   "source": [
    "import xarray as xr\n",
    "import pandas as pd\n",
    "import matplotlib.pyplot as plt\n",
    "import dask\n",
    "%matplotlib inline\n",
    "\n",
    "LE='/work/mh1007/mpiesm1/experiments'\n",
    "pre='lkm0'"
   ]
  },
  {
   "cell_type": "code",
   "execution_count": 31,
   "metadata": {},
   "outputs": [],
   "source": [
    "import os,glob"
   ]
  },
  {
   "cell_type": "code",
   "execution_count": 38,
   "metadata": {},
   "outputs": [],
   "source": [
    "def get_path(ens,model,outdatatype):\n",
    "    #endyear=startyear+length\n",
    "    run_id = pre+str(ens)\n",
    "    return LE+'/'+run_id+'/outdata/'+model+'/'+run_id+'_'+model+'_'+outdatatype+'_'+'*.nc'"
   ]
  },
  {
   "cell_type": "code",
   "execution_count": 39,
   "metadata": {},
   "outputs": [
    {
     "data": {
      "text/plain": [
       "'/work/mh1007/mpiesm1/experiments/lkm0101/outdata/hamocc/lkm0101_hamocc_data_2d_mm_*.nc'"
      ]
     },
     "execution_count": 39,
     "metadata": {},
     "output_type": "execute_result"
    }
   ],
   "source": [
    "get_path(101,'hamocc','data_2d_mm')"
   ]
  },
  {
   "cell_type": "code",
   "execution_count": 29,
   "metadata": {},
   "outputs": [
    {
     "name": "stderr",
     "output_type": "stream",
     "text": [
      "distributed.nanny - WARNING - Restarting worker\n",
      "distributed.nanny - WARNING - Restarting worker\n",
      "distributed.nanny - WARNING - Restarting worker\n",
      "distributed.nanny - WARNING - Restarting worker\n"
     ]
    }
   ],
   "source": [
    "ds = xr.open_mfdataset(get_path(101,'mpiom','data_2d_mm')).squeeze()"
   ]
  },
  {
   "cell_type": "code",
   "execution_count": 7,
   "metadata": {},
   "outputs": [
    {
     "data": {
      "text/plain": [
       "1.217414104"
      ]
     },
     "execution_count": 7,
     "metadata": {},
     "output_type": "execute_result"
    }
   ],
   "source": [
    "ds.nbytes/1e9"
   ]
  },
  {
   "cell_type": "markdown",
   "metadata": {},
   "source": [
    "load first x years of LE in y members"
   ]
  },
  {
   "cell_type": "code",
   "execution_count": 40,
   "metadata": {},
   "outputs": [
    {
     "name": "stdout",
     "output_type": "stream",
     "text": [
      "101\n",
      "102\n",
      "103\n",
      "104\n",
      "105\n",
      "106\n",
      "107\n",
      "108\n",
      "109\n",
      "110\n"
     ]
    }
   ],
   "source": [
    "l=[]\n",
    "for ens in range(101,111):\n",
    "    print(ens)\n",
    "    l.append(xr.open_mfdataset(get_path(ens,'mpiom','data_2d_mm')).squeeze())\n",
    "\n",
    "ds_ens = xr.concat(l,dim='ensemble')\n",
    "\n",
    "del l"
   ]
  },
  {
   "cell_type": "code",
   "execution_count": 41,
   "metadata": {},
   "outputs": [
    {
     "name": "stdout",
     "output_type": "stream",
     "text": [
      "189.77678812 GB\n"
     ]
    }
   ],
   "source": [
    "print(ds_ens.nbytes/1e9,'GB')"
   ]
  },
  {
   "cell_type": "markdown",
   "metadata": {},
   "source": [
    "## Ensemble and time mean"
   ]
  },
  {
   "cell_type": "code",
   "execution_count": 43,
   "metadata": {},
   "outputs": [
    {
     "data": {
      "text/plain": [
       "[<matplotlib.lines.Line2D at 0x2af9443c4710>]"
      ]
     },
     "execution_count": 43,
     "metadata": {},
     "output_type": "execute_result"
    },
    {
     "data": {
      "image/png": "[encoded data removed]",
      "text/plain": [
       "<Figure size 432x288 with 1 Axes>"
      ]
     },
     "metadata": {
      "needs_background": "light"
     },
     "output_type": "display_data"
    }
   ],
   "source": [
    "ds_ens['tos'].mean(['time','ensemble']).plot()"
   ]
  },
  {
   "cell_type": "markdown",
   "metadata": {},
   "source": [
    "## Global timeseries"
   ]
  },
  {
   "cell_type": "code",
   "execution_count": 22,
   "metadata": {},
   "outputs": [
    {
     "data": {
      "text/plain": [
       "<matplotlib.collections.QuadMesh at 0x2b4b2cec9438>"
      ]
     },
     "execution_count": 22,
     "metadata": {},
     "output_type": "execute_result"
    },
    {
     "data": {
      "image/png": "[encoded data removed]",
      "text/plain": [
       "<Figure size 432x288 with 2 Axes>"
      ]
     },
     "metadata": {
      "needs_background": "light"
     },
     "output_type": "display_data"
    }
   ],
   "source": [
    "ds_ens['tos'].groupby('time.year').mean('time').mean(['y','x']).plot()"
   ]
  },
  {
   "cell_type": "code",
   "execution_count": 25,
   "metadata": {},
   "outputs": [
    {
     "data": {
      "text/plain": [
       "[<matplotlib.lines.Line2D at 0x2b4b5696aa58>]"
      ]
     },
     "execution_count": 25,
     "metadata": {},
     "output_type": "execute_result"
    },
    {
     "data": {
      "image/png": "[encoded data removed]",
      "text/plain": [
       "<Figure size 432x288 with 1 Axes>"
      ]
     },
     "metadata": {
      "needs_background": "light"
     },
     "output_type": "display_data"
    }
   ],
   "source": [
    "ds_ens['tos'].groupby('time.year').mean('time').mean(['ensemble','x','y']).plot()"
   ]
  },
  {
   "cell_type": "markdown",
   "metadata": {},
   "source": [
    "## GE control "
   ]
  },
  {
   "cell_type": "code",
   "execution_count": 8,
   "metadata": {},
   "outputs": [
    {
     "data": {
      "text/plain": [
       "'/work/mh1007/mpiesm1/experiments/lkm0001/outdata/hamocc/lkm0001_hamocc_data_2d_mm_*.nc'"
      ]
     },
     "execution_count": 8,
     "metadata": {},
     "output_type": "execute_result"
    }
   ],
   "source": [
    "get_path('001','hamocc','data_2d_mm')"
   ]
  },
  {
   "cell_type": "code",
   "execution_count": null,
   "metadata": {},
   "outputs": [],
   "source": []
  },
  {
   "cell_type": "code",
   "execution_count": null,
   "metadata": {},
   "outputs": [
    {
     "name": "stderr",
     "output_type": "stream",
     "text": [
      "distributed.comm.tcp - WARNING - Closing dangling stream in <TCP local=tcp://127.0.0.1:55894 remote=tcp://127.0.0.1:36131>\n",
      "distributed.comm.tcp - WARNING - Closing dangling stream in <TCP local=tcp://127.0.0.1:55900 remote=tcp://127.0.0.1:36131>\n",
      "/work/mh0727/m300524/anaconda3/envs/my_jupyter/lib/python3.6/site-packages/xarray/coding/times.py:132: SerializationWarning: Unable to decode time axis into full numpy.datetime64 objects, continuing using dummy cftime.datetime objects instead, reason: dates out of range\n",
      "  enable_cftimeindex)\n",
      "/work/mh0727/m300524/anaconda3/envs/my_jupyter/lib/python3.6/site-packages/xarray/coding/variables.py:69: SerializationWarning: Unable to decode time axis into full numpy.datetime64 objects, continuing using dummy cftime.datetime objects instead, reason: dates out of range\n",
      "  return self.func(self.array)\n",
      "/work/mh0727/m300524/anaconda3/envs/my_jupyter/lib/python3.6/site-packages/xarray/coding/times.py:132: SerializationWarning: Unable to decode time axis into full numpy.datetime64 objects, continuing using dummy cftime.datetime objects instead, reason: dates out of range\n",
      "  enable_cftimeindex)\n",
      "distributed.comm.tcp - WARNING - Closing dangling stream in <TCP local=tcp://127.0.0.1:57118 remote=tcp://127.0.0.1:36131>\n",
      "distributed.comm.tcp - WARNING - Closing dangling stream in <TCP local=tcp://127.0.0.1:57142 remote=tcp://127.0.0.1:36131>\n",
      "distributed.comm.tcp - WARNING - Closing dangling stream in <TCP local=tcp://127.0.0.1:57280 remote=tcp://127.0.0.1:36131>\n"
     ]
    }
   ],
   "source": [
    "control = xr.open_mfdataset(get_path('001','mpiom','data_2d_mm'))"
   ]
  },
  {
   "cell_type": "code",
   "execution_count": null,
   "metadata": {},
   "outputs": [],
   "source": [
    "control.nbytes/1e9"
   ]
  },
  {
   "cell_type": "code",
   "execution_count": 13,
   "metadata": {},
   "outputs": [],
   "source": [
    "xr.enable_cftimeindex = True"
   ]
  },
  {
   "cell_type": "code",
   "execution_count": null,
   "metadata": {},
   "outputs": [],
   "source": [
    "control.data_vars"
   ]
  },
  {
   "cell_type": "code",
   "execution_count": null,
   "metadata": {},
   "outputs": [],
   "source": []
  },
  {
   "cell_type": "code",
   "execution_count": null,
   "metadata": {},
   "outputs": [],
   "source": []
  },
  {
   "cell_type": "code",
   "execution_count": null,
   "metadata": {},
   "outputs": [],
   "source": []
  },
  {
   "cell_type": "markdown",
   "metadata": {},
   "source": [
    "# SLURM\n",
    "Another client shouldn't be started to get the diagnostics working."
   ]
  },
  {
   "cell_type": "code",
   "execution_count": 126,
   "metadata": {},
   "outputs": [],
   "source": [
    "from dask_jobqueue import SLURMCluster"
   ]
  },
  {
   "cell_type": "code",
   "execution_count": 128,
   "metadata": {},
   "outputs": [
    {
     "name": "stderr",
     "output_type": "stream",
     "text": [
      "/work/mh0727/m300524/anaconda3/envs/my_jupyter/lib/python3.6/site-packages/distributed/bokeh/core.py:56: UserWarning: \n",
      "Port 8787 is already in use. \n",
      "Perhaps you already have a cluster running?\n",
      "Hosting the diagnostics dashboard on a random port instead.\n",
      "  warnings.warn('\\n' + msg)\n",
      "sbatch: error: Batch job submission failed: Invalid account or account/partition combination specified\n",
      "\n",
      "tornado.application - ERROR - Exception in callback functools.partial(<function wrap.<locals>.null_wrapper at 0x2ac6b40231e0>, 10)\n",
      "Traceback (most recent call last):\n",
      "  File \"/work/mh0727/m300524/anaconda3/envs/my_jupyter/lib/python3.6/site-packages/tornado/ioloop.py\", line 760, in _run_callback\n",
      "    ret = callback()\n",
      "  File \"/work/mh0727/m300524/anaconda3/envs/my_jupyter/lib/python3.6/site-packages/tornado/stack_context.py\", line 276, in null_wrapper\n",
      "    return fn(*args, **kwargs)\n",
      "  File \"/work/mh0727/m300524/anaconda3/envs/my_jupyter/lib/python3.6/site-packages/dask_jobqueue/core.py\", line 375, in scale_up\n",
      "    self.start_workers(n - active_and_pending)\n",
      "  File \"/work/mh0727/m300524/anaconda3/envs/my_jupyter/lib/python3.6/site-packages/dask_jobqueue/core.py\", line 302, in start_workers\n",
      "    job = self._job_id_from_submit_output(out.decode())\n",
      "  File \"/work/mh0727/m300524/anaconda3/envs/my_jupyter/lib/python3.6/site-packages/dask_jobqueue/core.py\", line 420, in _job_id_from_submit_output\n",
      "    raise ValueError(msg)\n",
      "ValueError: Could not parse job id from submission command output.\n",
      "Job id regexp is '(?P<job_id>\\\\d+)'\n",
      "Submission command output is:\n",
      "\n"
     ]
    }
   ],
   "source": [
    "cluster = SLURMCluster(processes=6, cores=4, memory=\"4GB\",account='mh0727',partition='compute')\n",
    "cluster.scale(10)  # this may take a few seconds to launch\n",
    "from dask.distributed import Client\n",
    "client = Client(cluster)"
   ]
  },
  {
   "cell_type": "code",
   "execution_count": 130,
   "metadata": {},
   "outputs": [
    {
     "data": {
      "text/html": [
       "<table style=\"border: 2px solid white;\">\n",
       "<tr>\n",
       "<td style=\"vertical-align: top; border: 0px solid white\">\n",
       "<h3>Client</h3>\n",
       "<ul>\n",
       "  <li><b>Scheduler: </b>tcp://10.50.40.47:46497\n",
       "  <li><b>Dashboard: </b><a href='http://10.50.40.47:39681/status' target='_blank'>http://10.50.40.47:39681/status</a>\n",
       "</ul>\n",
       "</td>\n",
       "<td style=\"vertical-align: top; border: 0px solid white\">\n",
       "<h3>Cluster</h3>\n",
       "<ul>\n",
       "  <li><b>Workers: </b>0</li>\n",
       "  <li><b>Cores: </b>0</li>\n",
       "  <li><b>Memory: </b>0 B</li>\n",
       "</ul>\n",
       "</td>\n",
       "</tr>\n",
       "</table>"
      ],
      "text/plain": [
       "<Client: scheduler='tcp://10.50.40.47:46497' processes=0 cores=0>"
      ]
     },
     "execution_count": 130,
     "metadata": {},
     "output_type": "execute_result"
    }
   ],
   "source": [
    "client"
   ]
  },
  {
   "cell_type": "code",
   "execution_count": null,
   "metadata": {},
   "outputs": [],
   "source": []
  }
 ],
 "metadata": {
  "kernelspec": {
   "display_name": "Python 3",
   "language": "python",
   "name": "python3"
  },
  "language_info": {
   "codemirror_mode": {
    "name": "ipython",
    "version": 3
   },
   "file_extension": ".py",
   "mimetype": "text/x-python",
   "name": "python",
   "nbconvert_exporter": "python",
   "pygments_lexer": "ipython3",
   "version": "3.6.8"
  }
 },
 "nbformat": 4,
 "nbformat_minor": 2
}
